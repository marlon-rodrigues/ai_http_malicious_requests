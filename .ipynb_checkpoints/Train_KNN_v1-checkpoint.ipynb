{
 "cells": [
  {
   "cell_type": "code",
   "execution_count": 2,
   "metadata": {},
   "outputs": [
    {
     "name": "stderr",
     "output_type": "stream",
     "text": [
      "/usr/local/lib/python3.5/dist-packages/h5py/__init__.py:36: FutureWarning: Conversion of the second argument of issubdtype from `float` to `np.floating` is deprecated. In future, it will be treated as `np.float64 == np.dtype(float).type`.\n",
      "  from ._conv import register_converters as _register_converters\n",
      "Using TensorFlow backend.\n"
     ]
    }
   ],
   "source": [
    "import sys\n",
    "import os\n",
    "import json\n",
    "import pandas\n",
    "import numpy\n",
    "import optparse\n",
    "from keras.callbacks import TensorBoard\n",
    "from keras.models import Sequential\n",
    "from keras.layers import LSTM, Dense, Dropout\n",
    "from keras.layers.embeddings import Embedding\n",
    "from keras.preprocessing import sequence\n",
    "from keras.preprocessing.text import Tokenizer\n",
    "from collections import OrderedDict\n",
    "from sklearn.model_selection import train_test_split "
   ]
  },
  {
   "cell_type": "code",
   "execution_count": 3,
   "metadata": {},
   "outputs": [
    {
     "data": {
      "text/html": [
       "<div>\n",
       "<style scoped>\n",
       "    .dataframe tbody tr th:only-of-type {\n",
       "        vertical-align: middle;\n",
       "    }\n",
       "\n",
       "    .dataframe tbody tr th {\n",
       "        vertical-align: top;\n",
       "    }\n",
       "\n",
       "    .dataframe thead th {\n",
       "        text-align: right;\n",
       "    }\n",
       "</style>\n",
       "<table border=\"1\" class=\"dataframe\">\n",
       "  <thead>\n",
       "    <tr style=\"text-align: right;\">\n",
       "      <th></th>\n",
       "      <th>0</th>\n",
       "      <th>1</th>\n",
       "    </tr>\n",
       "  </thead>\n",
       "  <tbody>\n",
       "    <tr>\n",
       "      <th>0</th>\n",
       "      <td>{\"cacheControl\": \"no-cache\", \"index\": \"0\", \"co...</td>\n",
       "      <td>1</td>\n",
       "    </tr>\n",
       "    <tr>\n",
       "      <th>1</th>\n",
       "      <td>{\"cacheControl\": \"no-cache\", \"index\": \"0\", \"co...</td>\n",
       "      <td>1</td>\n",
       "    </tr>\n",
       "    <tr>\n",
       "      <th>2</th>\n",
       "      <td>{\"cacheControl\": \"no-cache\", \"index\": \"0\", \"co...</td>\n",
       "      <td>1</td>\n",
       "    </tr>\n",
       "    <tr>\n",
       "      <th>3</th>\n",
       "      <td>{\"cacheControl\": \"no-cache\", \"index\": \"0\", \"co...</td>\n",
       "      <td>1</td>\n",
       "    </tr>\n",
       "    <tr>\n",
       "      <th>4</th>\n",
       "      <td>{\"cacheControl\": \"no-cache\", \"index\": \"0\", \"co...</td>\n",
       "      <td>1</td>\n",
       "    </tr>\n",
       "  </tbody>\n",
       "</table>\n",
       "</div>"
      ],
      "text/plain": [
       "                                                   0  1\n",
       "0  {\"cacheControl\": \"no-cache\", \"index\": \"0\", \"co...  1\n",
       "1  {\"cacheControl\": \"no-cache\", \"index\": \"0\", \"co...  1\n",
       "2  {\"cacheControl\": \"no-cache\", \"index\": \"0\", \"co...  1\n",
       "3  {\"cacheControl\": \"no-cache\", \"index\": \"0\", \"co...  1\n",
       "4  {\"cacheControl\": \"no-cache\", \"index\": \"0\", \"co...  1"
      ]
     },
     "execution_count": 3,
     "metadata": {},
     "output_type": "execute_result"
    }
   ],
   "source": [
    "requests_data = pandas.read_csv('Datasets/csic_2010_csv.csv', engine='python', quotechar='|', header=None)\n",
    "requests_data.head(5)"
   ]
  },
  {
   "cell_type": "code",
   "execution_count": 4,
   "metadata": {},
   "outputs": [
    {
     "data": {
      "text/plain": [
       "array([['{\"cacheControl\": \"no-cache\", \"index\": \"23798\", \"cookie\": \"JSESSIONID=BBF5977E13C1F6DA72F305A81E87B8FB\", \"connection\": \"close\", \"contentLength\": \"277\", \"host\": \"localhost:8080\", \"payload\": \"nombre=Jer%F3nimo\", \"accept\": \"text/xml,application/xml,application/xhtml+xml,text/html;q=0.9,text/plain;q=0.8,image/png,*/*;q=0.5\", \"acceptLanguage\": \"en\", \"acceptCharset\": \"utf-8, utf-8;q=0.5, *;q=0.5\", \"label\": \"anom\", \"pragma\": \"no-cache\", \"protocol\": \"HTTP/1.1\", \"userAgent\": \"Mozilla/5.0 (compatible; Konqueror/3.5; Linux) KHTML/3.5.8 (like Gecko)\", \"acceptEncoding\": \"x-gzip, x-deflate, gzip, deflate\", \"url\": \"http://localhost:8080/tienda1/publico/registro.jsp\", \"method\": \"POST\", \"contentType\": \"application/x-www-form-urlencoded\"}',\n",
       "        1],\n",
       "       ['{\"cacheControl\": \"no-cache\", \"index\": \"24498\", \"cookie\": \"JSESSIONID=C31D3D3093B8C64686DBA3A5459D4E85\", \"connection\": \"close\", \"contentLength\": \"63\", \"host\": \"localhost:8080\", \"payload\": \"pwd=mentirilLa\", \"accept\": \"text/xml,application/xml,application/xhtml+xml,text/html;q=0.9,text/plain;q=0.8,image/png,*/*;q=0.5\", \"acceptLanguage\": \"en\", \"acceptCharset\": \"utf-8, utf-8;q=0.5, *;q=0.5\", \"label\": \"anom\", \"pragma\": \"no-cache\", \"protocol\": \"HTTP/1.1\", \"userAgent\": \"Mozilla/5.0 (compatible; Konqueror/3.5; Linux) KHTML/3.5.8 (like Gecko)\", \"acceptEncoding\": \"x-gzip, x-deflate, gzip, deflate\", \"url\": \"http://localhost:8080/tienda1/publico/autenticar.jsp\", \"method\": \"POST\", \"contentType\": \"application/x-www-form-urlencoded\"}',\n",
       "        1],\n",
       "       ['{\"cacheControl\": \"no-cache\", \"index\": \"12475\", \"cookie\": \"JSESSIONID=1F038F33AC95864DD29DC40A5A114125\", \"connection\": \"close\", \"contentLength\": \"null\", \"host\": \"localhost:8080\", \"payload\": \"modo=registro\", \"accept\": \"text/xml,application/xml,application/xhtml+xml,text/html;q=0.9,text/plain;q=0.8,image/png,*/*;q=0.5\", \"acceptLanguage\": \"en\", \"acceptCharset\": \"utf-8, utf-8;q=0.5, *;q=0.5\", \"label\": \"anom\", \"pragma\": \"no-cache\", \"protocol\": \"HTTP/1.1\", \"userAgent\": \"Mozilla/5.0 (compatible; Konqueror/3.5; Linux) KHTML/3.5.8 (like Gecko)\", \"acceptEncoding\": \"x-gzip, x-deflate, gzip, deflate\", \"url\": \"http://localhost:8080/tienda1/publico/registro.jsp\", \"method\": \"GET\", \"contentType\": \"null\"}',\n",
       "        1],\n",
       "       ...,\n",
       "       ['{\"cacheControl\": \"no-cache\", \"index\": \"2180\", \"cookie\": \"JSESSIONID=4537BEAD24B68FE1644B73906A60F223\", \"connection\": \"close\", \"contentLength\": \"null\", \"host\": \"localhost:8080\", \"payload\": \"ciudad=Sotragero\", \"accept\": \"text/xml,application/xml,application/xhtml+xml,text/html;q=0.9,text/plain;q=0.8,image/png,*/*;q=0.5\", \"acceptLanguage\": \"en\", \"acceptCharset\": \"utf-8, utf-8;q=0.5, *;q=0.5\", \"label\": \"anom\", \"pragma\": \"no-cache\", \"protocol\": \"HTTP/1.1\", \"userAgent\": \"Mozilla/5.0 (compatible; Konqueror/3.5; Linux) KHTML/3.5.8 (like Gecko)\", \"acceptEncoding\": \"x-gzip, x-deflate, gzip, deflate\", \"url\": \"http://localhost:8080/tienda1/publico/registro.jsp\", \"method\": \"GET\", \"contentType\": \"null\"}',\n",
       "        1],\n",
       "       ['{\"cacheControl\": \"no-cache\", \"index\": \"28361\", \"cookie\": \"JSESSIONID=ECE0553E333974A00A630BE16904618C\", \"connection\": \"close\", \"contentLength\": \"68\", \"host\": \"localhost:8080\", \"payload\": \"remember=off\", \"accept\": \"text/xml,application/xml,application/xhtml+xml,text/html;q=0.9,text/plain;q=0.8,image/png,*/*;q=0.5\", \"acceptLanguage\": \"en\", \"acceptCharset\": \"utf-8, utf-8;q=0.5, *;q=0.5\", \"label\": \"norm\", \"pragma\": \"no-cache\", \"protocol\": \"HTTP/1.1\", \"userAgent\": \"Mozilla/5.0 (compatible; Konqueror/3.5; Linux) KHTML/3.5.8 (like Gecko)\", \"acceptEncoding\": \"x-gzip, x-deflate, gzip, deflate\", \"url\": \"http://localhost:8080/tienda1/publico/autenticar.jsp\", \"method\": \"POST\", \"contentType\": \"application/x-www-form-urlencoded\"}',\n",
       "        0],\n",
       "       ['{\"cacheControl\": \"no-cache\", \"index\": \"22521\", \"cookie\": \"JSESSIONID=186BEC8BD08495B5BD1F109C9F8232D9\", \"connection\": \"close\", \"contentLength\": \"null\", \"host\": \"localhost:8080\", \"payload\": \"login=liew\", \"accept\": \"text/xml,application/xml,application/xhtml+xml,text/html;q=0.9,text/plain;q=0.8,image/png,*/*;q=0.5\", \"acceptLanguage\": \"en\", \"acceptCharset\": \"utf-8, utf-8;q=0.5, *;q=0.5\", \"label\": \"norm\", \"pragma\": \"no-cache\", \"protocol\": \"HTTP/1.1\", \"userAgent\": \"Mozilla/5.0 (compatible; Konqueror/3.5; Linux) KHTML/3.5.8 (like Gecko)\", \"acceptEncoding\": \"x-gzip, x-deflate, gzip, deflate\", \"url\": \"http://localhost:8080/tienda1/publico/registro.jsp\", \"method\": \"GET\", \"contentType\": \"null\"}',\n",
       "        0]], dtype=object)"
      ]
     },
     "execution_count": 4,
     "metadata": {},
     "output_type": "execute_result"
    }
   ],
   "source": [
    "dataset = requests_data.sample(frac=1).values # convert data into array\n",
    "dataset"
   ]
  },
  {
   "cell_type": "code",
   "execution_count": 5,
   "metadata": {},
   "outputs": [
    {
     "data": {
      "text/plain": [
       "array(['{\"cacheControl\": \"no-cache\", \"index\": \"23798\", \"cookie\": \"JSESSIONID=BBF5977E13C1F6DA72F305A81E87B8FB\", \"connection\": \"close\", \"contentLength\": \"277\", \"host\": \"localhost:8080\", \"payload\": \"nombre=Jer%F3nimo\", \"accept\": \"text/xml,application/xml,application/xhtml+xml,text/html;q=0.9,text/plain;q=0.8,image/png,*/*;q=0.5\", \"acceptLanguage\": \"en\", \"acceptCharset\": \"utf-8, utf-8;q=0.5, *;q=0.5\", \"label\": \"anom\", \"pragma\": \"no-cache\", \"protocol\": \"HTTP/1.1\", \"userAgent\": \"Mozilla/5.0 (compatible; Konqueror/3.5; Linux) KHTML/3.5.8 (like Gecko)\", \"acceptEncoding\": \"x-gzip, x-deflate, gzip, deflate\", \"url\": \"http://localhost:8080/tienda1/publico/registro.jsp\", \"method\": \"POST\", \"contentType\": \"application/x-www-form-urlencoded\"}',\n",
       "       '{\"cacheControl\": \"no-cache\", \"index\": \"24498\", \"cookie\": \"JSESSIONID=C31D3D3093B8C64686DBA3A5459D4E85\", \"connection\": \"close\", \"contentLength\": \"63\", \"host\": \"localhost:8080\", \"payload\": \"pwd=mentirilLa\", \"accept\": \"text/xml,application/xml,application/xhtml+xml,text/html;q=0.9,text/plain;q=0.8,image/png,*/*;q=0.5\", \"acceptLanguage\": \"en\", \"acceptCharset\": \"utf-8, utf-8;q=0.5, *;q=0.5\", \"label\": \"anom\", \"pragma\": \"no-cache\", \"protocol\": \"HTTP/1.1\", \"userAgent\": \"Mozilla/5.0 (compatible; Konqueror/3.5; Linux) KHTML/3.5.8 (like Gecko)\", \"acceptEncoding\": \"x-gzip, x-deflate, gzip, deflate\", \"url\": \"http://localhost:8080/tienda1/publico/autenticar.jsp\", \"method\": \"POST\", \"contentType\": \"application/x-www-form-urlencoded\"}',\n",
       "       '{\"cacheControl\": \"no-cache\", \"index\": \"12475\", \"cookie\": \"JSESSIONID=1F038F33AC95864DD29DC40A5A114125\", \"connection\": \"close\", \"contentLength\": \"null\", \"host\": \"localhost:8080\", \"payload\": \"modo=registro\", \"accept\": \"text/xml,application/xml,application/xhtml+xml,text/html;q=0.9,text/plain;q=0.8,image/png,*/*;q=0.5\", \"acceptLanguage\": \"en\", \"acceptCharset\": \"utf-8, utf-8;q=0.5, *;q=0.5\", \"label\": \"anom\", \"pragma\": \"no-cache\", \"protocol\": \"HTTP/1.1\", \"userAgent\": \"Mozilla/5.0 (compatible; Konqueror/3.5; Linux) KHTML/3.5.8 (like Gecko)\", \"acceptEncoding\": \"x-gzip, x-deflate, gzip, deflate\", \"url\": \"http://localhost:8080/tienda1/publico/registro.jsp\", \"method\": \"GET\", \"contentType\": \"null\"}',\n",
       "       ...,\n",
       "       '{\"cacheControl\": \"no-cache\", \"index\": \"2180\", \"cookie\": \"JSESSIONID=4537BEAD24B68FE1644B73906A60F223\", \"connection\": \"close\", \"contentLength\": \"null\", \"host\": \"localhost:8080\", \"payload\": \"ciudad=Sotragero\", \"accept\": \"text/xml,application/xml,application/xhtml+xml,text/html;q=0.9,text/plain;q=0.8,image/png,*/*;q=0.5\", \"acceptLanguage\": \"en\", \"acceptCharset\": \"utf-8, utf-8;q=0.5, *;q=0.5\", \"label\": \"anom\", \"pragma\": \"no-cache\", \"protocol\": \"HTTP/1.1\", \"userAgent\": \"Mozilla/5.0 (compatible; Konqueror/3.5; Linux) KHTML/3.5.8 (like Gecko)\", \"acceptEncoding\": \"x-gzip, x-deflate, gzip, deflate\", \"url\": \"http://localhost:8080/tienda1/publico/registro.jsp\", \"method\": \"GET\", \"contentType\": \"null\"}',\n",
       "       '{\"cacheControl\": \"no-cache\", \"index\": \"28361\", \"cookie\": \"JSESSIONID=ECE0553E333974A00A630BE16904618C\", \"connection\": \"close\", \"contentLength\": \"68\", \"host\": \"localhost:8080\", \"payload\": \"remember=off\", \"accept\": \"text/xml,application/xml,application/xhtml+xml,text/html;q=0.9,text/plain;q=0.8,image/png,*/*;q=0.5\", \"acceptLanguage\": \"en\", \"acceptCharset\": \"utf-8, utf-8;q=0.5, *;q=0.5\", \"label\": \"norm\", \"pragma\": \"no-cache\", \"protocol\": \"HTTP/1.1\", \"userAgent\": \"Mozilla/5.0 (compatible; Konqueror/3.5; Linux) KHTML/3.5.8 (like Gecko)\", \"acceptEncoding\": \"x-gzip, x-deflate, gzip, deflate\", \"url\": \"http://localhost:8080/tienda1/publico/autenticar.jsp\", \"method\": \"POST\", \"contentType\": \"application/x-www-form-urlencoded\"}',\n",
       "       '{\"cacheControl\": \"no-cache\", \"index\": \"22521\", \"cookie\": \"JSESSIONID=186BEC8BD08495B5BD1F109C9F8232D9\", \"connection\": \"close\", \"contentLength\": \"null\", \"host\": \"localhost:8080\", \"payload\": \"login=liew\", \"accept\": \"text/xml,application/xml,application/xhtml+xml,text/html;q=0.9,text/plain;q=0.8,image/png,*/*;q=0.5\", \"acceptLanguage\": \"en\", \"acceptCharset\": \"utf-8, utf-8;q=0.5, *;q=0.5\", \"label\": \"norm\", \"pragma\": \"no-cache\", \"protocol\": \"HTTP/1.1\", \"userAgent\": \"Mozilla/5.0 (compatible; Konqueror/3.5; Linux) KHTML/3.5.8 (like Gecko)\", \"acceptEncoding\": \"x-gzip, x-deflate, gzip, deflate\", \"url\": \"http://localhost:8080/tienda1/publico/registro.jsp\", \"method\": \"GET\", \"contentType\": \"null\"}'],\n",
       "      dtype=object)"
      ]
     },
     "execution_count": 5,
     "metadata": {},
     "output_type": "execute_result"
    }
   ],
   "source": [
    "# Preprocess dataset\n",
    "X = dataset[:,0]\n",
    "X"
   ]
  },
  {
   "cell_type": "code",
   "execution_count": 6,
   "metadata": {},
   "outputs": [
    {
     "data": {
      "text/plain": [
       "array([1, 1, 1, ..., 1, 0, 0], dtype=object)"
      ]
     },
     "execution_count": 6,
     "metadata": {},
     "output_type": "execute_result"
    }
   ],
   "source": [
    "Y = dataset[:,1]\n",
    "Y"
   ]
  },
  {
   "cell_type": "code",
   "execution_count": 7,
   "metadata": {},
   "outputs": [],
   "source": [
    "for index, item in enumerate(X):\n",
    "        # Quick hack to space out json elements\n",
    "        reqJson = json.loads(item, object_pairs_hook=OrderedDict)\n",
    "        del reqJson['contentLength']\n",
    "        del reqJson['cacheControl']\n",
    "        del reqJson['index']\n",
    "        del reqJson['label']\n",
    "        X[index] = json.dumps(reqJson, separators=(',', ':'))"
   ]
  },
  {
   "cell_type": "code",
   "execution_count": 8,
   "metadata": {},
   "outputs": [],
   "source": [
    "tokenizer = Tokenizer(filters='\\t\\n', char_level=True)\n",
    "tokenizer.fit_on_texts(X)"
   ]
  },
  {
   "cell_type": "code",
   "execution_count": 9,
   "metadata": {},
   "outputs": [
    {
     "data": {
      "text/plain": [
       "{' ': 16,\n",
       " '\"': 1,\n",
       " '%': 69,\n",
       " '(': 57,\n",
       " ')': 58,\n",
       " '*': 44,\n",
       " '+': 63,\n",
       " ',': 8,\n",
       " '-': 29,\n",
       " '.': 15,\n",
       " '/': 13,\n",
       " '0': 14,\n",
       " '1': 31,\n",
       " '2': 45,\n",
       " '3': 35,\n",
       " '4': 47,\n",
       " '5': 24,\n",
       " '6': 48,\n",
       " '7': 46,\n",
       " '8': 20,\n",
       " '9': 37,\n",
       " ':': 12,\n",
       " ';': 27,\n",
       " '=': 28,\n",
       " 'A': 39,\n",
       " 'B': 49,\n",
       " 'C': 38,\n",
       " 'D': 40,\n",
       " 'E': 33,\n",
       " 'F': 51,\n",
       " 'G': 59,\n",
       " 'H': 55,\n",
       " 'I': 54,\n",
       " 'J': 65,\n",
       " 'K': 56,\n",
       " 'L': 43,\n",
       " 'M': 52,\n",
       " 'N': 64,\n",
       " 'O': 61,\n",
       " 'P': 60,\n",
       " 'Q': 74,\n",
       " 'R': 71,\n",
       " 'S': 36,\n",
       " 'T': 32,\n",
       " 'U': 73,\n",
       " 'V': 72,\n",
       " 'W': 78,\n",
       " 'X': 77,\n",
       " 'Y': 79,\n",
       " 'Z': 76,\n",
       " '_': 75,\n",
       " 'a': 5,\n",
       " 'b': 50,\n",
       " 'c': 6,\n",
       " 'd': 26,\n",
       " 'e': 3,\n",
       " 'f': 34,\n",
       " 'g': 21,\n",
       " 'h': 22,\n",
       " 'i': 11,\n",
       " 'j': 66,\n",
       " 'k': 42,\n",
       " 'l': 7,\n",
       " 'm': 18,\n",
       " 'n': 10,\n",
       " 'o': 4,\n",
       " 'p': 9,\n",
       " 'q': 30,\n",
       " 'r': 17,\n",
       " 's': 25,\n",
       " 't': 2,\n",
       " 'u': 23,\n",
       " 'v': 70,\n",
       " 'w': 62,\n",
       " 'x': 19,\n",
       " 'y': 53,\n",
       " 'z': 41,\n",
       " '{': 67,\n",
       " '}': 68,\n",
       " '~': 80}"
      ]
     },
     "execution_count": 9,
     "metadata": {},
     "output_type": "execute_result"
    }
   ],
   "source": [
    "tokenizer.word_index"
   ]
  },
  {
   "cell_type": "code",
   "execution_count": 10,
   "metadata": {},
   "outputs": [],
   "source": [
    "# Extract and save word dictionary\n",
    "word_dict_file = 'build/word-dictionary.json'"
   ]
  },
  {
   "cell_type": "code",
   "execution_count": 11,
   "metadata": {},
   "outputs": [],
   "source": [
    "if not os.path.exists(os.path.dirname(word_dict_file)):\n",
    "    os.makedirs(os.path.dirname(word_dict_file))\n",
    "\n",
    "with open(word_dict_file, 'w') as outfile:\n",
    "    json.dump(tokenizer.word_index, outfile, ensure_ascii=False)"
   ]
  },
  {
   "cell_type": "code",
   "execution_count": 12,
   "metadata": {},
   "outputs": [
    {
     "data": {
      "text/plain": [
       "81"
      ]
     },
     "execution_count": 12,
     "metadata": {},
     "output_type": "execute_result"
    }
   ],
   "source": [
    "num_words = len(tokenizer.word_index)+1\n",
    "num_words"
   ]
  },
  {
   "cell_type": "code",
   "execution_count": 13,
   "metadata": {},
   "outputs": [],
   "source": [
    "X = tokenizer.texts_to_sequences(X)\n",
    "#X"
   ]
  },
  {
   "cell_type": "code",
   "execution_count": 14,
   "metadata": {},
   "outputs": [],
   "source": [
    "max_log_length = 1024\n",
    "train_size = int(len(dataset) * .75)\n",
    "\n",
    "X_processed = sequence.pad_sequences(X, maxlen=max_log_length)\n",
    "#X = sequence.pad_sequences(X)"
   ]
  },
  {
   "cell_type": "code",
   "execution_count": 14,
   "metadata": {},
   "outputs": [],
   "source": [
    "# split data into training set and a temporary set using sklearn.model_selection.traing_test_split\n",
    "#X_train, X_test, Y_train, Y_test = train_test_split(X, Y, test_size=0.2, random_state=23)  "
   ]
  },
  {
   "cell_type": "code",
   "execution_count": 15,
   "metadata": {},
   "outputs": [],
   "source": [
    "X_train, X_test = X_processed[0:train_size], X_processed[train_size:len(X_processed)]\n",
    "Y_train, Y_test = Y[0:train_size], Y[train_size:len(Y)]"
   ]
  },
  {
   "cell_type": "code",
   "execution_count": 16,
   "metadata": {},
   "outputs": [],
   "source": [
    "tb_callback = TensorBoard(log_dir='./logs', embeddings_freq=1)"
   ]
  },
  {
   "cell_type": "code",
   "execution_count": 17,
   "metadata": {},
   "outputs": [
    {
     "data": {
      "text/plain": [
       "223577"
      ]
     },
     "execution_count": 17,
     "metadata": {},
     "output_type": "execute_result"
    }
   ],
   "source": [
    "len(X)"
   ]
  },
  {
   "cell_type": "code",
   "execution_count": 27,
   "metadata": {},
   "outputs": [
    {
     "name": "stderr",
     "output_type": "stream",
     "text": [
      "/usr/local/lib/python3.5/dist-packages/ipykernel_launcher.py:2: UserWarning: The `dropout` argument is no longer support in `Embedding`. You can apply a `keras.layers.SpatialDropout1D` layer right after the `Embedding` layer to get the same behavior.\n",
      "  \n",
      "/usr/local/lib/python3.5/dist-packages/ipykernel_launcher.py:4: UserWarning: Update your `LSTM` call to the Keras 2 API: `LSTM(64, return_sequences=True, recurrent_dropout=0.2, dropout=0.2)`\n",
      "  after removing the cwd from sys.path.\n"
     ]
    },
    {
     "name": "stdout",
     "output_type": "stream",
     "text": [
      "_________________________________________________________________\n",
      "Layer (type)                 Output Shape              Param #   \n",
      "=================================================================\n",
      "embedding_8 (Embedding)      (None, 1024, 32)          2592      \n",
      "_________________________________________________________________\n",
      "lstm_13 (LSTM)               (None, 1024, 64)          24832     \n",
      "_________________________________________________________________\n",
      "lstm_14 (LSTM)               (None, 64)                33024     \n",
      "_________________________________________________________________\n",
      "dense_5 (Dense)              (None, 1)                 65        \n",
      "=================================================================\n",
      "Total params: 60,513\n",
      "Trainable params: 60,513\n",
      "Non-trainable params: 0\n",
      "_________________________________________________________________\n",
      "None\n",
      "Train on 125761 samples, validate on 41921 samples\n",
      "Epoch 1/1\n",
      " 71552/125761 [================>.............] - ETA: 26:14 - loss: 0.6879 - acc: 0.5358"
     ]
    },
    {
     "ename": "KeyboardInterrupt",
     "evalue": "",
     "output_type": "error",
     "traceback": [
      "\u001b[0;31m---------------------------------------------------------------------------\u001b[0m",
      "\u001b[0;31mKeyboardInterrupt\u001b[0m                         Traceback (most recent call last)",
      "\u001b[0;32m<ipython-input-27-5ffe1457a1fb>\u001b[0m in \u001b[0;36m<module>\u001b[0;34m()\u001b[0m\n\u001b[1;32m      7\u001b[0m \u001b[0mmodel\u001b[0m\u001b[0;34m.\u001b[0m\u001b[0mcompile\u001b[0m\u001b[0;34m(\u001b[0m\u001b[0mloss\u001b[0m\u001b[0;34m=\u001b[0m\u001b[0;34m'binary_crossentropy'\u001b[0m\u001b[0;34m,\u001b[0m \u001b[0moptimizer\u001b[0m\u001b[0;34m=\u001b[0m\u001b[0;34m'adam'\u001b[0m\u001b[0;34m,\u001b[0m \u001b[0mmetrics\u001b[0m\u001b[0;34m=\u001b[0m\u001b[0;34m[\u001b[0m\u001b[0;34m'accuracy'\u001b[0m\u001b[0;34m]\u001b[0m\u001b[0;34m)\u001b[0m\u001b[0;34m\u001b[0m\u001b[0m\n\u001b[1;32m      8\u001b[0m \u001b[0mprint\u001b[0m\u001b[0;34m(\u001b[0m\u001b[0mmodel\u001b[0m\u001b[0;34m.\u001b[0m\u001b[0msummary\u001b[0m\u001b[0;34m(\u001b[0m\u001b[0;34m)\u001b[0m\u001b[0;34m)\u001b[0m\u001b[0;34m\u001b[0m\u001b[0m\n\u001b[0;32m----> 9\u001b[0;31m \u001b[0mmodel\u001b[0m\u001b[0;34m.\u001b[0m\u001b[0mfit\u001b[0m\u001b[0;34m(\u001b[0m\u001b[0mX_train\u001b[0m\u001b[0;34m,\u001b[0m \u001b[0mY_train\u001b[0m\u001b[0;34m,\u001b[0m \u001b[0mvalidation_split\u001b[0m\u001b[0;34m=\u001b[0m\u001b[0;36m0.25\u001b[0m\u001b[0;34m,\u001b[0m \u001b[0mepochs\u001b[0m\u001b[0;34m=\u001b[0m\u001b[0;36m1\u001b[0m\u001b[0;34m,\u001b[0m \u001b[0mbatch_size\u001b[0m\u001b[0;34m=\u001b[0m\u001b[0;36m128\u001b[0m\u001b[0;34m,\u001b[0m \u001b[0mcallbacks\u001b[0m\u001b[0;34m=\u001b[0m\u001b[0;34m[\u001b[0m\u001b[0mtb_callback\u001b[0m\u001b[0;34m]\u001b[0m\u001b[0;34m)\u001b[0m\u001b[0;34m\u001b[0m\u001b[0m\n\u001b[0m",
      "\u001b[0;32m/usr/local/lib/python3.5/dist-packages/keras/models.py\u001b[0m in \u001b[0;36mfit\u001b[0;34m(self, x, y, batch_size, epochs, verbose, callbacks, validation_split, validation_data, shuffle, class_weight, sample_weight, initial_epoch, steps_per_epoch, validation_steps, **kwargs)\u001b[0m\n\u001b[1;32m    961\u001b[0m                               \u001b[0minitial_epoch\u001b[0m\u001b[0;34m=\u001b[0m\u001b[0minitial_epoch\u001b[0m\u001b[0;34m,\u001b[0m\u001b[0;34m\u001b[0m\u001b[0m\n\u001b[1;32m    962\u001b[0m                               \u001b[0msteps_per_epoch\u001b[0m\u001b[0;34m=\u001b[0m\u001b[0msteps_per_epoch\u001b[0m\u001b[0;34m,\u001b[0m\u001b[0;34m\u001b[0m\u001b[0m\n\u001b[0;32m--> 963\u001b[0;31m                               validation_steps=validation_steps)\n\u001b[0m\u001b[1;32m    964\u001b[0m \u001b[0;34m\u001b[0m\u001b[0m\n\u001b[1;32m    965\u001b[0m     def evaluate(self, x=None, y=None,\n",
      "\u001b[0;32m/usr/local/lib/python3.5/dist-packages/keras/engine/training.py\u001b[0m in \u001b[0;36mfit\u001b[0;34m(self, x, y, batch_size, epochs, verbose, callbacks, validation_split, validation_data, shuffle, class_weight, sample_weight, initial_epoch, steps_per_epoch, validation_steps, **kwargs)\u001b[0m\n\u001b[1;32m   1703\u001b[0m                               \u001b[0minitial_epoch\u001b[0m\u001b[0;34m=\u001b[0m\u001b[0minitial_epoch\u001b[0m\u001b[0;34m,\u001b[0m\u001b[0;34m\u001b[0m\u001b[0m\n\u001b[1;32m   1704\u001b[0m                               \u001b[0msteps_per_epoch\u001b[0m\u001b[0;34m=\u001b[0m\u001b[0msteps_per_epoch\u001b[0m\u001b[0;34m,\u001b[0m\u001b[0;34m\u001b[0m\u001b[0m\n\u001b[0;32m-> 1705\u001b[0;31m                               validation_steps=validation_steps)\n\u001b[0m\u001b[1;32m   1706\u001b[0m \u001b[0;34m\u001b[0m\u001b[0m\n\u001b[1;32m   1707\u001b[0m     def evaluate(self, x=None, y=None,\n",
      "\u001b[0;32m/usr/local/lib/python3.5/dist-packages/keras/engine/training.py\u001b[0m in \u001b[0;36m_fit_loop\u001b[0;34m(self, f, ins, out_labels, batch_size, epochs, verbose, callbacks, val_f, val_ins, shuffle, callback_metrics, initial_epoch, steps_per_epoch, validation_steps)\u001b[0m\n\u001b[1;32m   1233\u001b[0m                         \u001b[0mins_batch\u001b[0m\u001b[0;34m[\u001b[0m\u001b[0mi\u001b[0m\u001b[0;34m]\u001b[0m \u001b[0;34m=\u001b[0m \u001b[0mins_batch\u001b[0m\u001b[0;34m[\u001b[0m\u001b[0mi\u001b[0m\u001b[0;34m]\u001b[0m\u001b[0;34m.\u001b[0m\u001b[0mtoarray\u001b[0m\u001b[0;34m(\u001b[0m\u001b[0;34m)\u001b[0m\u001b[0;34m\u001b[0m\u001b[0m\n\u001b[1;32m   1234\u001b[0m \u001b[0;34m\u001b[0m\u001b[0m\n\u001b[0;32m-> 1235\u001b[0;31m                     \u001b[0mouts\u001b[0m \u001b[0;34m=\u001b[0m \u001b[0mf\u001b[0m\u001b[0;34m(\u001b[0m\u001b[0mins_batch\u001b[0m\u001b[0;34m)\u001b[0m\u001b[0;34m\u001b[0m\u001b[0m\n\u001b[0m\u001b[1;32m   1236\u001b[0m                     \u001b[0;32mif\u001b[0m \u001b[0;32mnot\u001b[0m \u001b[0misinstance\u001b[0m\u001b[0;34m(\u001b[0m\u001b[0mouts\u001b[0m\u001b[0;34m,\u001b[0m \u001b[0mlist\u001b[0m\u001b[0;34m)\u001b[0m\u001b[0;34m:\u001b[0m\u001b[0;34m\u001b[0m\u001b[0m\n\u001b[1;32m   1237\u001b[0m                         \u001b[0mouts\u001b[0m \u001b[0;34m=\u001b[0m \u001b[0;34m[\u001b[0m\u001b[0mouts\u001b[0m\u001b[0;34m]\u001b[0m\u001b[0;34m\u001b[0m\u001b[0m\n",
      "\u001b[0;32m/usr/local/lib/python3.5/dist-packages/keras/backend/tensorflow_backend.py\u001b[0m in \u001b[0;36m__call__\u001b[0;34m(self, inputs)\u001b[0m\n\u001b[1;32m   2476\u001b[0m         \u001b[0msession\u001b[0m \u001b[0;34m=\u001b[0m \u001b[0mget_session\u001b[0m\u001b[0;34m(\u001b[0m\u001b[0;34m)\u001b[0m\u001b[0;34m\u001b[0m\u001b[0m\n\u001b[1;32m   2477\u001b[0m         updated = session.run(fetches=fetches, feed_dict=feed_dict,\n\u001b[0;32m-> 2478\u001b[0;31m                               **self.session_kwargs)\n\u001b[0m\u001b[1;32m   2479\u001b[0m         \u001b[0;32mreturn\u001b[0m \u001b[0mupdated\u001b[0m\u001b[0;34m[\u001b[0m\u001b[0;34m:\u001b[0m\u001b[0mlen\u001b[0m\u001b[0;34m(\u001b[0m\u001b[0mself\u001b[0m\u001b[0;34m.\u001b[0m\u001b[0moutputs\u001b[0m\u001b[0;34m)\u001b[0m\u001b[0;34m]\u001b[0m\u001b[0;34m\u001b[0m\u001b[0m\n\u001b[1;32m   2480\u001b[0m \u001b[0;34m\u001b[0m\u001b[0m\n",
      "\u001b[0;32m/usr/local/lib/python3.5/dist-packages/tensorflow/python/client/session.py\u001b[0m in \u001b[0;36mrun\u001b[0;34m(self, fetches, feed_dict, options, run_metadata)\u001b[0m\n\u001b[1;32m    903\u001b[0m     \u001b[0;32mtry\u001b[0m\u001b[0;34m:\u001b[0m\u001b[0;34m\u001b[0m\u001b[0m\n\u001b[1;32m    904\u001b[0m       result = self._run(None, fetches, feed_dict, options_ptr,\n\u001b[0;32m--> 905\u001b[0;31m                          run_metadata_ptr)\n\u001b[0m\u001b[1;32m    906\u001b[0m       \u001b[0;32mif\u001b[0m \u001b[0mrun_metadata\u001b[0m\u001b[0;34m:\u001b[0m\u001b[0;34m\u001b[0m\u001b[0m\n\u001b[1;32m    907\u001b[0m         \u001b[0mproto_data\u001b[0m \u001b[0;34m=\u001b[0m \u001b[0mtf_session\u001b[0m\u001b[0;34m.\u001b[0m\u001b[0mTF_GetBuffer\u001b[0m\u001b[0;34m(\u001b[0m\u001b[0mrun_metadata_ptr\u001b[0m\u001b[0;34m)\u001b[0m\u001b[0;34m\u001b[0m\u001b[0m\n",
      "\u001b[0;32m/usr/local/lib/python3.5/dist-packages/tensorflow/python/client/session.py\u001b[0m in \u001b[0;36m_run\u001b[0;34m(self, handle, fetches, feed_dict, options, run_metadata)\u001b[0m\n\u001b[1;32m   1135\u001b[0m     \u001b[0;32mif\u001b[0m \u001b[0mfinal_fetches\u001b[0m \u001b[0;32mor\u001b[0m \u001b[0mfinal_targets\u001b[0m \u001b[0;32mor\u001b[0m \u001b[0;34m(\u001b[0m\u001b[0mhandle\u001b[0m \u001b[0;32mand\u001b[0m \u001b[0mfeed_dict_tensor\u001b[0m\u001b[0;34m)\u001b[0m\u001b[0;34m:\u001b[0m\u001b[0;34m\u001b[0m\u001b[0m\n\u001b[1;32m   1136\u001b[0m       results = self._do_run(handle, final_targets, final_fetches,\n\u001b[0;32m-> 1137\u001b[0;31m                              feed_dict_tensor, options, run_metadata)\n\u001b[0m\u001b[1;32m   1138\u001b[0m     \u001b[0;32melse\u001b[0m\u001b[0;34m:\u001b[0m\u001b[0;34m\u001b[0m\u001b[0m\n\u001b[1;32m   1139\u001b[0m       \u001b[0mresults\u001b[0m \u001b[0;34m=\u001b[0m \u001b[0;34m[\u001b[0m\u001b[0;34m]\u001b[0m\u001b[0;34m\u001b[0m\u001b[0m\n",
      "\u001b[0;32m/usr/local/lib/python3.5/dist-packages/tensorflow/python/client/session.py\u001b[0m in \u001b[0;36m_do_run\u001b[0;34m(self, handle, target_list, fetch_list, feed_dict, options, run_metadata)\u001b[0m\n\u001b[1;32m   1353\u001b[0m     \u001b[0;32mif\u001b[0m \u001b[0mhandle\u001b[0m \u001b[0;32mis\u001b[0m \u001b[0;32mNone\u001b[0m\u001b[0;34m:\u001b[0m\u001b[0;34m\u001b[0m\u001b[0m\n\u001b[1;32m   1354\u001b[0m       return self._do_call(_run_fn, self._session, feeds, fetches, targets,\n\u001b[0;32m-> 1355\u001b[0;31m                            options, run_metadata)\n\u001b[0m\u001b[1;32m   1356\u001b[0m     \u001b[0;32melse\u001b[0m\u001b[0;34m:\u001b[0m\u001b[0;34m\u001b[0m\u001b[0m\n\u001b[1;32m   1357\u001b[0m       \u001b[0;32mreturn\u001b[0m \u001b[0mself\u001b[0m\u001b[0;34m.\u001b[0m\u001b[0m_do_call\u001b[0m\u001b[0;34m(\u001b[0m\u001b[0m_prun_fn\u001b[0m\u001b[0;34m,\u001b[0m \u001b[0mself\u001b[0m\u001b[0;34m.\u001b[0m\u001b[0m_session\u001b[0m\u001b[0;34m,\u001b[0m \u001b[0mhandle\u001b[0m\u001b[0;34m,\u001b[0m \u001b[0mfeeds\u001b[0m\u001b[0;34m,\u001b[0m \u001b[0mfetches\u001b[0m\u001b[0;34m)\u001b[0m\u001b[0;34m\u001b[0m\u001b[0m\n",
      "\u001b[0;32m/usr/local/lib/python3.5/dist-packages/tensorflow/python/client/session.py\u001b[0m in \u001b[0;36m_do_call\u001b[0;34m(self, fn, *args)\u001b[0m\n\u001b[1;32m   1359\u001b[0m   \u001b[0;32mdef\u001b[0m \u001b[0m_do_call\u001b[0m\u001b[0;34m(\u001b[0m\u001b[0mself\u001b[0m\u001b[0;34m,\u001b[0m \u001b[0mfn\u001b[0m\u001b[0;34m,\u001b[0m \u001b[0;34m*\u001b[0m\u001b[0margs\u001b[0m\u001b[0;34m)\u001b[0m\u001b[0;34m:\u001b[0m\u001b[0;34m\u001b[0m\u001b[0m\n\u001b[1;32m   1360\u001b[0m     \u001b[0;32mtry\u001b[0m\u001b[0;34m:\u001b[0m\u001b[0;34m\u001b[0m\u001b[0m\n\u001b[0;32m-> 1361\u001b[0;31m       \u001b[0;32mreturn\u001b[0m \u001b[0mfn\u001b[0m\u001b[0;34m(\u001b[0m\u001b[0;34m*\u001b[0m\u001b[0margs\u001b[0m\u001b[0;34m)\u001b[0m\u001b[0;34m\u001b[0m\u001b[0m\n\u001b[0m\u001b[1;32m   1362\u001b[0m     \u001b[0;32mexcept\u001b[0m \u001b[0merrors\u001b[0m\u001b[0;34m.\u001b[0m\u001b[0mOpError\u001b[0m \u001b[0;32mas\u001b[0m \u001b[0me\u001b[0m\u001b[0;34m:\u001b[0m\u001b[0;34m\u001b[0m\u001b[0m\n\u001b[1;32m   1363\u001b[0m       \u001b[0mmessage\u001b[0m \u001b[0;34m=\u001b[0m \u001b[0mcompat\u001b[0m\u001b[0;34m.\u001b[0m\u001b[0mas_text\u001b[0m\u001b[0;34m(\u001b[0m\u001b[0me\u001b[0m\u001b[0;34m.\u001b[0m\u001b[0mmessage\u001b[0m\u001b[0;34m)\u001b[0m\u001b[0;34m\u001b[0m\u001b[0m\n",
      "\u001b[0;32m/usr/local/lib/python3.5/dist-packages/tensorflow/python/client/session.py\u001b[0m in \u001b[0;36m_run_fn\u001b[0;34m(session, feed_dict, fetch_list, target_list, options, run_metadata)\u001b[0m\n\u001b[1;32m   1338\u001b[0m         \u001b[0;32melse\u001b[0m\u001b[0;34m:\u001b[0m\u001b[0;34m\u001b[0m\u001b[0m\n\u001b[1;32m   1339\u001b[0m           return tf_session.TF_Run(session, options, feed_dict, fetch_list,\n\u001b[0;32m-> 1340\u001b[0;31m                                    target_list, status, run_metadata)\n\u001b[0m\u001b[1;32m   1341\u001b[0m \u001b[0;34m\u001b[0m\u001b[0m\n\u001b[1;32m   1342\u001b[0m     \u001b[0;32mdef\u001b[0m \u001b[0m_prun_fn\u001b[0m\u001b[0;34m(\u001b[0m\u001b[0msession\u001b[0m\u001b[0;34m,\u001b[0m \u001b[0mhandle\u001b[0m\u001b[0;34m,\u001b[0m \u001b[0mfeed_dict\u001b[0m\u001b[0;34m,\u001b[0m \u001b[0mfetch_list\u001b[0m\u001b[0;34m)\u001b[0m\u001b[0;34m:\u001b[0m\u001b[0;34m\u001b[0m\u001b[0m\n",
      "\u001b[0;31mKeyboardInterrupt\u001b[0m: "
     ]
    }
   ],
   "source": [
    "model = Sequential()\n",
    "model.add(Embedding(num_words, 32, input_length=max_log_length, dropout = 0.2))\n",
    "#model.add(LSTM(32, dropout_U = 0.2, dropout_W = 0.2, return_sequences=True))\n",
    "model.add(LSTM(64, dropout_U = 0.2, dropout_W = 0.2, return_sequences=True))\n",
    "model.add(LSTM(64))\n",
    "model.add(Dense(1, activation='sigmoid'))\n",
    "model.compile(loss='binary_crossentropy', optimizer='adam', metrics=['accuracy'])\n",
    "print(model.summary())\n",
    "model.fit(X_train, Y_train, validation_split=0.25, epochs=1, batch_size=128, callbacks=[tb_callback])"
   ]
  },
  {
   "cell_type": "code",
   "execution_count": null,
   "metadata": {},
   "outputs": [],
   "source": [
    "# Evaluate model\n",
    "score, acc = model.evaluate(numpy.array(X_test), numpy.array(y_test), verbose=1, batch_size=128)"
   ]
  },
  {
   "cell_type": "code",
   "execution_count": null,
   "metadata": {},
   "outputs": [],
   "source": [
    "print(\"Model Accuracy: {:0.2f}%\".format(acc * 100))"
   ]
  },
  {
   "cell_type": "code",
   "execution_count": null,
   "metadata": {},
   "outputs": [],
   "source": [
    "# Save model\n",
    "model.save_weights('model-weights.h5')\n",
    "model.save('model.h5')\n",
    "with open('model_json', 'w') as outfile:\n",
    "    outfile.write(model.to_json())"
   ]
  },
  {
   "cell_type": "code",
   "execution_count": null,
   "metadata": {},
   "outputs": [],
   "source": []
  }
 ],
 "metadata": {
  "kernelspec": {
   "display_name": "Python 3",
   "language": "python",
   "name": "python3"
  },
  "language_info": {
   "codemirror_mode": {
    "name": "ipython",
    "version": 3
   },
   "file_extension": ".py",
   "mimetype": "text/x-python",
   "name": "python",
   "nbconvert_exporter": "python",
   "pygments_lexer": "ipython3",
   "version": "3.5.2"
  }
 },
 "nbformat": 4,
 "nbformat_minor": 2
}
