{
 "cells": [
  {
   "cell_type": "code",
   "execution_count": 1,
   "metadata": {},
   "outputs": [
    {
     "name": "stderr",
     "output_type": "stream",
     "text": [
      "/usr/local/lib/python3.5/dist-packages/h5py/__init__.py:36: FutureWarning: Conversion of the second argument of issubdtype from `float` to `np.floating` is deprecated. In future, it will be treated as `np.float64 == np.dtype(float).type`.\n",
      "  from ._conv import register_converters as _register_converters\n",
      "Using TensorFlow backend.\n"
     ]
    }
   ],
   "source": [
    "import sys\n",
    "import os\n",
    "import json\n",
    "import pandas\n",
    "import numpy\n",
    "import optparse\n",
    "from keras.callbacks import TensorBoard\n",
    "from keras.models import Sequential\n",
    "from keras.layers import LSTM, Dense, Dropout\n",
    "from keras.layers.embeddings import Embedding\n",
    "from keras.preprocessing import sequence\n",
    "from keras.preprocessing.text import Tokenizer\n",
    "from collections import OrderedDict\n",
    "from sklearn.model_selection import train_test_split \n",
    "from sklearn.neighbors import KNeighborsClassifier"
   ]
  },
  {
   "cell_type": "code",
   "execution_count": 2,
   "metadata": {},
   "outputs": [
    {
     "data": {
      "text/html": [
       "<div>\n",
       "<style scoped>\n",
       "    .dataframe tbody tr th:only-of-type {\n",
       "        vertical-align: middle;\n",
       "    }\n",
       "\n",
       "    .dataframe tbody tr th {\n",
       "        vertical-align: top;\n",
       "    }\n",
       "\n",
       "    .dataframe thead th {\n",
       "        text-align: right;\n",
       "    }\n",
       "</style>\n",
       "<table border=\"1\" class=\"dataframe\">\n",
       "  <thead>\n",
       "    <tr style=\"text-align: right;\">\n",
       "      <th></th>\n",
       "      <th>0</th>\n",
       "      <th>1</th>\n",
       "    </tr>\n",
       "  </thead>\n",
       "  <tbody>\n",
       "    <tr>\n",
       "      <th>0</th>\n",
       "      <td>{\"cacheControl\": \"no-cache\", \"index\": \"0\", \"co...</td>\n",
       "      <td>1</td>\n",
       "    </tr>\n",
       "    <tr>\n",
       "      <th>1</th>\n",
       "      <td>{\"cacheControl\": \"no-cache\", \"index\": \"0\", \"co...</td>\n",
       "      <td>1</td>\n",
       "    </tr>\n",
       "    <tr>\n",
       "      <th>2</th>\n",
       "      <td>{\"cacheControl\": \"no-cache\", \"index\": \"0\", \"co...</td>\n",
       "      <td>1</td>\n",
       "    </tr>\n",
       "    <tr>\n",
       "      <th>3</th>\n",
       "      <td>{\"cacheControl\": \"no-cache\", \"index\": \"0\", \"co...</td>\n",
       "      <td>1</td>\n",
       "    </tr>\n",
       "    <tr>\n",
       "      <th>4</th>\n",
       "      <td>{\"cacheControl\": \"no-cache\", \"index\": \"0\", \"co...</td>\n",
       "      <td>1</td>\n",
       "    </tr>\n",
       "  </tbody>\n",
       "</table>\n",
       "</div>"
      ],
      "text/plain": [
       "                                                   0  1\n",
       "0  {\"cacheControl\": \"no-cache\", \"index\": \"0\", \"co...  1\n",
       "1  {\"cacheControl\": \"no-cache\", \"index\": \"0\", \"co...  1\n",
       "2  {\"cacheControl\": \"no-cache\", \"index\": \"0\", \"co...  1\n",
       "3  {\"cacheControl\": \"no-cache\", \"index\": \"0\", \"co...  1\n",
       "4  {\"cacheControl\": \"no-cache\", \"index\": \"0\", \"co...  1"
      ]
     },
     "execution_count": 2,
     "metadata": {},
     "output_type": "execute_result"
    }
   ],
   "source": [
    "requests_data = pandas.read_csv('Datasets/csic_2010_csv.csv', engine='python', quotechar='|', header=None)\n",
    "requests_data.head(5)"
   ]
  },
  {
   "cell_type": "code",
   "execution_count": 11,
   "metadata": {},
   "outputs": [
    {
     "name": "stdout",
     "output_type": "stream",
     "text": [
      "['{\"cacheControl\": \"no-cache\", \"index\": \"0\", \"cookie\": \"JSESSIONID=B92A8B48B9008CD29F622A994E0F650D\", \"connection\": \"close\", \"contentLength\": \"null\", \"host\": \"localhost:8080\", \"payload\": \"id=2\", \"accept\": \"text/xml,application/xml,application/xhtml+xml,text/html;q=0.9,text/plain;q=0.8,image/png,*/*;q=0.5\", \"acceptLanguage\": \"en\", \"acceptCharset\": \"utf-8, utf-8;q=0.5, *;q=0.5\", \"label\": \"anom\", \"pragma\": \"no-cache\", \"protocol\": \"HTTP/1.1\", \"userAgent\": \"Mozilla/5.0 (compatible; Konqueror/3.5; Linux) KHTML/3.5.8 (like Gecko)\", \"acceptEncoding\": \"x-gzip, x-deflate, gzip, deflate\", \"url\": \"http://localhost:8080/tienda1/publico/anadir.jsp\", \"method\": \"GET\", \"contentType\": \"null\"}'\n",
      " '{\"cacheControl\": \"no-cache\", \"index\": \"0\", \"cookie\": \"JSESSIONID=B92A8B48B9008CD29F622A994E0F650D\", \"connection\": \"close\", \"contentLength\": \"null\", \"host\": \"localhost:8080\", \"payload\": \"nombre=Jam%F3n+Ib%E9rico\", \"accept\": \"text/xml,application/xml,application/xhtml+xml,text/html;q=0.9,text/plain;q=0.8,image/png,*/*;q=0.5\", \"acceptLanguage\": \"en\", \"acceptCharset\": \"utf-8, utf-8;q=0.5, *;q=0.5\", \"label\": \"anom\", \"pragma\": \"no-cache\", \"protocol\": \"HTTP/1.1\", \"userAgent\": \"Mozilla/5.0 (compatible; Konqueror/3.5; Linux) KHTML/3.5.8 (like Gecko)\", \"acceptEncoding\": \"x-gzip, x-deflate, gzip, deflate\", \"url\": \"http://localhost:8080/tienda1/publico/anadir.jsp\", \"method\": \"GET\", \"contentType\": \"null\"}'\n",
      " '{\"cacheControl\": \"no-cache\", \"index\": \"0\", \"cookie\": \"JSESSIONID=B92A8B48B9008CD29F622A994E0F650D\", \"connection\": \"close\", \"contentLength\": \"null\", \"host\": \"localhost:8080\", \"payload\": \"precio=85\", \"accept\": \"text/xml,application/xml,application/xhtml+xml,text/html;q=0.9,text/plain;q=0.8,image/png,*/*;q=0.5\", \"acceptLanguage\": \"en\", \"acceptCharset\": \"utf-8, utf-8;q=0.5, *;q=0.5\", \"label\": \"anom\", \"pragma\": \"no-cache\", \"protocol\": \"HTTP/1.1\", \"userAgent\": \"Mozilla/5.0 (compatible; Konqueror/3.5; Linux) KHTML/3.5.8 (like Gecko)\", \"acceptEncoding\": \"x-gzip, x-deflate, gzip, deflate\", \"url\": \"http://localhost:8080/tienda1/publico/anadir.jsp\", \"method\": \"GET\", \"contentType\": \"null\"}'\n",
      " ...\n",
      " '{\"cacheControl\": \"no-cache\", \"index\": \"35999\", \"cookie\": \"JSESSIONID=05C0977CEA3691A57DFC74F2A03C3D2C\", \"connection\": \"close\", \"contentLength\": \"238\", \"host\": \"localhost:8080\", \"payload\": \"password=AtL%C1ntiCa\", \"accept\": \"text/xml,application/xml,application/xhtml+xml,text/html;q=0.9,text/plain;q=0.8,image/png,*/*;q=0.5\", \"acceptLanguage\": \"en\", \"acceptCharset\": \"utf-8, utf-8;q=0.5, *;q=0.5\", \"label\": \"norm\", \"pragma\": \"no-cache\", \"protocol\": \"HTTP/1.1\", \"userAgent\": \"Mozilla/5.0 (compatible; Konqueror/3.5; Linux) KHTML/3.5.8 (like Gecko)\", \"acceptEncoding\": \"x-gzip, x-deflate, gzip, deflate\", \"url\": \"http://localhost:8080/tienda1/miembros/editar.jsp\", \"method\": \"POST\", \"contentType\": \"application/x-www-form-urlencoded\"}'\n",
      " '{\"cacheControl\": \"no-cache\", \"index\": \"35999\", \"cookie\": \"JSESSIONID=05C0977CEA3691A57DFC74F2A03C3D2C\", \"connection\": \"close\", \"contentLength\": \"238\", \"host\": \"localhost:8080\", \"payload\": \"nombre=Vazk%E9n\", \"accept\": \"text/xml,application/xml,application/xhtml+xml,text/html;q=0.9,text/plain;q=0.8,image/png,*/*;q=0.5\", \"acceptLanguage\": \"en\", \"acceptCharset\": \"utf-8, utf-8;q=0.5, *;q=0.5\", \"label\": \"norm\", \"pragma\": \"no-cache\", \"protocol\": \"HTTP/1.1\", \"userAgent\": \"Mozilla/5.0 (compatible; Konqueror/3.5; Linux) KHTML/3.5.8 (like Gecko)\", \"acceptEncoding\": \"x-gzip, x-deflate, gzip, deflate\", \"url\": \"http://localhost:8080/tienda1/miembros/editar.jsp\", \"method\": \"POST\", \"contentType\": \"application/x-www-form-urlencoded\"}'\n",
      " '{\"cacheControl\": \"no-cache\", \"index\": \"35999\", \"cookie\": \"JSESSIONID=05C0977CEA3691A57DFC74F2A03C3D2C\", \"connection\": \"close\", \"contentLength\": \"238\", \"host\": \"localhost:8080\", \"payload\": \"apellidos=Bernaus\", \"accept\": \"text/xml,application/xml,application/xhtml+xml,text/html;q=0.9,text/plain;q=0.8,image/png,*/*;q=0.5\", \"acceptLanguage\": \"en\", \"acceptCharset\": \"utf-8, utf-8;q=0.5, *;q=0.5\", \"label\": \"norm\", \"pragma\": \"no-cache\", \"protocol\": \"HTTP/1.1\", \"userAgent\": \"Mozilla/5.0 (compatible; Konqueror/3.5; Linux) KHTML/3.5.8 (like Gecko)\", \"acceptEncoding\": \"x-gzip, x-deflate, gzip, deflate\", \"url\": \"http://localhost:8080/tienda1/miembros/editar.jsp\", \"method\": \"POST\", \"contentType\": \"application/x-www-form-urlencoded\"}']\n",
      "[1 1 1 ... 0 0 0]\n"
     ]
    }
   ],
   "source": [
    "#X = requests_data.iloc[:,0]\n",
    "#X\n",
    "\n",
    "X = numpy.array(requests_data.ix[:,0])\n",
    "y = numpy.array(requests_data.ix[:,1]) \n",
    "\n",
    "print(X)\n",
    "print(y)"
   ]
  },
  {
   "cell_type": "code",
   "execution_count": 12,
   "metadata": {},
   "outputs": [],
   "source": [
    "# split into train and test\n",
    "X_train, X_test, y_train, y_test = train_test_split(X, y, test_size=0.25, random_state=23)"
   ]
  },
  {
   "cell_type": "code",
   "execution_count": 14,
   "metadata": {},
   "outputs": [
    {
     "ename": "ValueError",
     "evalue": "could not convert string to float: '{\"cacheControl\": \"no-cache\", \"index\": \"22901\", \"cookie\": \"JSESSIONID=9CA3C7173AD4F963CB9F8F3ED79F0398\", \"connection\": \"close\", \"contentLength\": \"254\", \"host\": \"localhost:8080\", \"payload\": \"ciudad=Inviernas%2C+Las\", \"accept\": \"text/xml,application/xml,application/xhtml+xml,text/html;q=0.9,text/plain;q=0.8,image/png,*/*;q=0.5\", \"acceptLanguage\": \"en\", \"acceptCharset\": \"utf-8, utf-8;q=0.5, *;q=0.5\", \"label\": \"anom\", \"pragma\": \"no-cache\", \"protocol\": \"HTTP/1.1\", \"userAgent\": \"Mozilla/5.0 (compatible; Konqueror/3.5; Linux) KHTML/3.5.8 (like Gecko)\", \"acceptEncoding\": \"x-gzip, x-deflate, gzip, deflate\", \"url\": \"http://localhost:8080/tienda1/miembros/editar.jsp\", \"method\": \"POST\", \"contentType\": \"application/x-www-form-urlencoded\"}'",
     "output_type": "error",
     "traceback": [
      "\u001b[0;31m---------------------------------------------------------------------------\u001b[0m",
      "\u001b[0;31mValueError\u001b[0m                                Traceback (most recent call last)",
      "\u001b[0;32m<ipython-input-14-92c8ca5d98a3>\u001b[0m in \u001b[0;36m<module>\u001b[0;34m()\u001b[0m\n\u001b[1;32m      3\u001b[0m \u001b[0;34m\u001b[0m\u001b[0m\n\u001b[1;32m      4\u001b[0m \u001b[0;31m# fitting the model\u001b[0m\u001b[0;34m\u001b[0m\u001b[0;34m\u001b[0m\u001b[0m\n\u001b[0;32m----> 5\u001b[0;31m \u001b[0mknn\u001b[0m\u001b[0;34m.\u001b[0m\u001b[0mfit\u001b[0m\u001b[0;34m(\u001b[0m\u001b[0mX_train\u001b[0m\u001b[0;34m,\u001b[0m \u001b[0my_train\u001b[0m\u001b[0;34m)\u001b[0m\u001b[0;34m\u001b[0m\u001b[0m\n\u001b[0m\u001b[1;32m      6\u001b[0m \u001b[0;34m\u001b[0m\u001b[0m\n\u001b[1;32m      7\u001b[0m \u001b[0;31m# predict the response\u001b[0m\u001b[0;34m\u001b[0m\u001b[0;34m\u001b[0m\u001b[0m\n",
      "\u001b[0;32m/usr/local/lib/python3.5/dist-packages/sklearn/neighbors/base.py\u001b[0m in \u001b[0;36mfit\u001b[0;34m(self, X, y)\u001b[0m\n\u001b[1;32m    763\u001b[0m         \"\"\"\n\u001b[1;32m    764\u001b[0m         \u001b[0;32mif\u001b[0m \u001b[0;32mnot\u001b[0m \u001b[0misinstance\u001b[0m\u001b[0;34m(\u001b[0m\u001b[0mX\u001b[0m\u001b[0;34m,\u001b[0m \u001b[0;34m(\u001b[0m\u001b[0mKDTree\u001b[0m\u001b[0;34m,\u001b[0m \u001b[0mBallTree\u001b[0m\u001b[0;34m)\u001b[0m\u001b[0;34m)\u001b[0m\u001b[0;34m:\u001b[0m\u001b[0;34m\u001b[0m\u001b[0m\n\u001b[0;32m--> 765\u001b[0;31m             \u001b[0mX\u001b[0m\u001b[0;34m,\u001b[0m \u001b[0my\u001b[0m \u001b[0;34m=\u001b[0m \u001b[0mcheck_X_y\u001b[0m\u001b[0;34m(\u001b[0m\u001b[0mX\u001b[0m\u001b[0;34m,\u001b[0m \u001b[0my\u001b[0m\u001b[0;34m,\u001b[0m \u001b[0;34m\"csr\"\u001b[0m\u001b[0;34m,\u001b[0m \u001b[0mmulti_output\u001b[0m\u001b[0;34m=\u001b[0m\u001b[0;32mTrue\u001b[0m\u001b[0;34m)\u001b[0m\u001b[0;34m\u001b[0m\u001b[0m\n\u001b[0m\u001b[1;32m    766\u001b[0m \u001b[0;34m\u001b[0m\u001b[0m\n\u001b[1;32m    767\u001b[0m         \u001b[0;32mif\u001b[0m \u001b[0my\u001b[0m\u001b[0;34m.\u001b[0m\u001b[0mndim\u001b[0m \u001b[0;34m==\u001b[0m \u001b[0;36m1\u001b[0m \u001b[0;32mor\u001b[0m \u001b[0my\u001b[0m\u001b[0;34m.\u001b[0m\u001b[0mndim\u001b[0m \u001b[0;34m==\u001b[0m \u001b[0;36m2\u001b[0m \u001b[0;32mand\u001b[0m \u001b[0my\u001b[0m\u001b[0;34m.\u001b[0m\u001b[0mshape\u001b[0m\u001b[0;34m[\u001b[0m\u001b[0;36m1\u001b[0m\u001b[0;34m]\u001b[0m \u001b[0;34m==\u001b[0m \u001b[0;36m1\u001b[0m\u001b[0;34m:\u001b[0m\u001b[0;34m\u001b[0m\u001b[0m\n",
      "\u001b[0;32m/usr/local/lib/python3.5/dist-packages/sklearn/utils/validation.py\u001b[0m in \u001b[0;36mcheck_X_y\u001b[0;34m(X, y, accept_sparse, dtype, order, copy, force_all_finite, ensure_2d, allow_nd, multi_output, ensure_min_samples, ensure_min_features, y_numeric, warn_on_dtype, estimator)\u001b[0m\n\u001b[1;32m    571\u001b[0m     X = check_array(X, accept_sparse, dtype, order, copy, force_all_finite,\n\u001b[1;32m    572\u001b[0m                     \u001b[0mensure_2d\u001b[0m\u001b[0;34m,\u001b[0m \u001b[0mallow_nd\u001b[0m\u001b[0;34m,\u001b[0m \u001b[0mensure_min_samples\u001b[0m\u001b[0;34m,\u001b[0m\u001b[0;34m\u001b[0m\u001b[0m\n\u001b[0;32m--> 573\u001b[0;31m                     ensure_min_features, warn_on_dtype, estimator)\n\u001b[0m\u001b[1;32m    574\u001b[0m     \u001b[0;32mif\u001b[0m \u001b[0mmulti_output\u001b[0m\u001b[0;34m:\u001b[0m\u001b[0;34m\u001b[0m\u001b[0m\n\u001b[1;32m    575\u001b[0m         y = check_array(y, 'csr', force_all_finite=True, ensure_2d=False,\n",
      "\u001b[0;32m/usr/local/lib/python3.5/dist-packages/sklearn/utils/validation.py\u001b[0m in \u001b[0;36mcheck_array\u001b[0;34m(array, accept_sparse, dtype, order, copy, force_all_finite, ensure_2d, allow_nd, ensure_min_samples, ensure_min_features, warn_on_dtype, estimator)\u001b[0m\n\u001b[1;32m    431\u001b[0m                                       force_all_finite)\n\u001b[1;32m    432\u001b[0m     \u001b[0;32melse\u001b[0m\u001b[0;34m:\u001b[0m\u001b[0;34m\u001b[0m\u001b[0m\n\u001b[0;32m--> 433\u001b[0;31m         \u001b[0marray\u001b[0m \u001b[0;34m=\u001b[0m \u001b[0mnp\u001b[0m\u001b[0;34m.\u001b[0m\u001b[0marray\u001b[0m\u001b[0;34m(\u001b[0m\u001b[0marray\u001b[0m\u001b[0;34m,\u001b[0m \u001b[0mdtype\u001b[0m\u001b[0;34m=\u001b[0m\u001b[0mdtype\u001b[0m\u001b[0;34m,\u001b[0m \u001b[0morder\u001b[0m\u001b[0;34m=\u001b[0m\u001b[0morder\u001b[0m\u001b[0;34m,\u001b[0m \u001b[0mcopy\u001b[0m\u001b[0;34m=\u001b[0m\u001b[0mcopy\u001b[0m\u001b[0;34m)\u001b[0m\u001b[0;34m\u001b[0m\u001b[0m\n\u001b[0m\u001b[1;32m    434\u001b[0m \u001b[0;34m\u001b[0m\u001b[0m\n\u001b[1;32m    435\u001b[0m         \u001b[0;32mif\u001b[0m \u001b[0mensure_2d\u001b[0m\u001b[0;34m:\u001b[0m\u001b[0;34m\u001b[0m\u001b[0m\n",
      "\u001b[0;31mValueError\u001b[0m: could not convert string to float: '{\"cacheControl\": \"no-cache\", \"index\": \"22901\", \"cookie\": \"JSESSIONID=9CA3C7173AD4F963CB9F8F3ED79F0398\", \"connection\": \"close\", \"contentLength\": \"254\", \"host\": \"localhost:8080\", \"payload\": \"ciudad=Inviernas%2C+Las\", \"accept\": \"text/xml,application/xml,application/xhtml+xml,text/html;q=0.9,text/plain;q=0.8,image/png,*/*;q=0.5\", \"acceptLanguage\": \"en\", \"acceptCharset\": \"utf-8, utf-8;q=0.5, *;q=0.5\", \"label\": \"anom\", \"pragma\": \"no-cache\", \"protocol\": \"HTTP/1.1\", \"userAgent\": \"Mozilla/5.0 (compatible; Konqueror/3.5; Linux) KHTML/3.5.8 (like Gecko)\", \"acceptEncoding\": \"x-gzip, x-deflate, gzip, deflate\", \"url\": \"http://localhost:8080/tienda1/miembros/editar.jsp\", \"method\": \"POST\", \"contentType\": \"application/x-www-form-urlencoded\"}'"
     ]
    }
   ],
   "source": [
    "# instantiate learning model (k = 3)\n",
    "knn = KNeighborsClassifier(n_neighbors=3)\n",
    "\n",
    "# fitting the model\n",
    "knn.fit(X_train, y_train)\n",
    "\n",
    "# predict the response\n",
    "pred = knn.predict(X_test)\n",
    "\n",
    "# evaluate accuracy\n"
   ]
  },
  {
   "cell_type": "code",
   "execution_count": null,
   "metadata": {},
   "outputs": [],
   "source": []
  }
 ],
 "metadata": {
  "kernelspec": {
   "display_name": "Python 3",
   "language": "python",
   "name": "python3"
  },
  "language_info": {
   "codemirror_mode": {
    "name": "ipython",
    "version": 3
   },
   "file_extension": ".py",
   "mimetype": "text/x-python",
   "name": "python",
   "nbconvert_exporter": "python",
   "pygments_lexer": "ipython3",
   "version": "3.5.2"
  }
 },
 "nbformat": 4,
 "nbformat_minor": 2
}
